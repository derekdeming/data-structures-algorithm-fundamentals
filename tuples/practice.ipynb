{
 "cells": [
  {
   "cell_type": "code",
   "execution_count": 3,
   "metadata": {},
   "outputs": [
    {
     "data": {
      "text/plain": [
       "(15, 120)"
      ]
     },
     "execution_count": 3,
     "metadata": {},
     "output_type": "execute_result"
    }
   ],
   "source": [
    "# write a function that calculates the sum and product of all elements in a tuple of numbers: \n",
    "# traversing through a tuple \n",
    "def sum_and_product(*args):\n",
    "    sum_result = 0\n",
    "    product_result = 1\n",
    "    for i in range(len(input_tuple)):\n",
    "        sum_result += input_tuple[i]\n",
    "        product_result *= input_tuple[i]\n",
    "    return sum_result, product_result\n",
    "\n",
    "input_tuple = (1, 2, 3, 4, 5)\n",
    "sum_and_product(input_tuple)"
   ]
  },
  {
   "cell_type": "code",
   "execution_count": 6,
   "metadata": {},
   "outputs": [
    {
     "data": {
      "text/plain": [
       "(5, 7, 9)"
      ]
     },
     "execution_count": 6,
     "metadata": {},
     "output_type": "execute_result"
    }
   ],
   "source": [
    "# create a function that takes two tuples and returns a tuple containing the element-wise sum of the input tuples \n",
    "\n",
    "def tuple_sum(tuple1, tuple2):\n",
    "    return tuple(map(sum, zip(tuple1, tuple2)))\n",
    "\n",
    "# OR\n",
    "\n",
    "def tuple_sum2(tuple1, tuple2):\n",
    "    if len(tuple1) != len(tuple2):\n",
    "        raise ValueError(\"input tuples must have same length\")\n",
    "    result = tuple(a + b for a,b in zip(tuple1, tuple2))\n",
    "    return result \n",
    "\n",
    "tuple1 = (1, 2, 3)\n",
    "tuple2 = (4, 5, 6)\n",
    "# tuple_sum(tuple1, tuple2)\n",
    "tuple_sum2(tuple1, tuple2)\n"
   ]
  },
  {
   "cell_type": "code",
   "execution_count": 8,
   "metadata": {},
   "outputs": [
    {
     "data": {
      "text/plain": [
       "(0, 1, 2, 3, 4, 5)"
      ]
     },
     "execution_count": 8,
     "metadata": {},
     "output_type": "execute_result"
    }
   ],
   "source": [
    "# Write a function that takes a tuple and a value, and returns a new tuple with the value inserted at the beginning of the original tuple.\n",
    "\n",
    "def insert_value_at_beginning(input_tuple, value):\n",
    "    # Convert the tuple to a list\n",
    "    input_list = list(input_tuple)\n",
    "    \n",
    "    # Insert the value at index 0\n",
    "    input_list.insert(0, value)\n",
    "    \n",
    "    # Convert the list back to a tuple\n",
    "    output_tuple = tuple(input_list)\n",
    "    \n",
    "    return output_tuple\n",
    "\n",
    "input_tuple = (1, 2, 3, 4, 5)\n",
    "value = 0\n",
    "insert_value_at_beginning(input_tuple, value)"
   ]
  },
  {
   "cell_type": "code",
   "execution_count": 10,
   "metadata": {},
   "outputs": [
    {
     "data": {
      "text/plain": [
       "'Hello World derek'"
      ]
     },
     "execution_count": 10,
     "metadata": {},
     "output_type": "execute_result"
    }
   ],
   "source": [
    "# Write a function that takes a tuple of strings and concatenates them, separating each string with a space.\n",
    "\n",
    "def concatenate_strings(input_tuple):\n",
    "    return ' '.join(input_tuple)\n",
    "\n",
    "input_tuple = ('Hello', 'World', 'derek')\n",
    "concatenate_strings(input_tuple)\n"
   ]
  },
  {
   "cell_type": "code",
   "execution_count": 11,
   "metadata": {},
   "outputs": [
    {
     "data": {
      "text/plain": [
       "(1, 5, 9)"
      ]
     },
     "execution_count": 11,
     "metadata": {},
     "output_type": "execute_result"
    }
   ],
   "source": [
    "# Create a function that takes a tuple of tuples and returns a tuple containing the diagonal elements of the input.\n",
    "def get_diagonal_elements(input_tuple):\n",
    "    diagonal_elements = []\n",
    "    for tuple_ in input_tuple:\n",
    "        diagonal_elements.append(tuple_[input_tuple.index(tuple_)])\n",
    "    return tuple(diagonal_elements)\n",
    "\n",
    "input_tuple = ((1, 2, 3), (4, 5, 6), (7, 8, 9))\n",
    "get_diagonal_elements(input_tuple)\n"
   ]
  },
  {
   "cell_type": "code",
   "execution_count": 14,
   "metadata": {},
   "outputs": [
    {
     "data": {
      "text/plain": [
       "(4, 5)"
      ]
     },
     "execution_count": 14,
     "metadata": {},
     "output_type": "execute_result"
    }
   ],
   "source": [
    "# Write a function that takes two tuples and returns a tuple containing the common elements of the input tuples.\n",
    "\n",
    "def find_common_elements(tuple1, tuple2):\n",
    "    set1 = set(tuple1)\n",
    "    set2 = set(tuple2)\n",
    "    common_elements = set1.intersection(set2)\n",
    "    return tuple(common_elements)\n",
    "\n",
    "# OR\n",
    "\n",
    "def find_common_elements2(tuple1, tuple2):\n",
    "    return tuple(set(tuple1) & set(tuple2))\n",
    "\n",
    "tuple1 = (1, 2, 3, 4, 5)\n",
    "tuple2 = (4, 5, 6, 7, 8)\n",
    "# find_common_elements(tuple1, tuple2)\n",
    "find_common_elements2(tuple1, tuple2)\n"
   ]
  },
  {
   "cell_type": "code",
   "execution_count": null,
   "metadata": {},
   "outputs": [],
   "source": []
  }
 ],
 "metadata": {
  "kernelspec": {
   "display_name": "Python 3",
   "language": "python",
   "name": "python3"
  },
  "language_info": {
   "codemirror_mode": {
    "name": "ipython",
    "version": 3
   },
   "file_extension": ".py",
   "mimetype": "text/x-python",
   "name": "python",
   "nbconvert_exporter": "python",
   "pygments_lexer": "ipython3",
   "version": "3.10.11"
  }
 },
 "nbformat": 4,
 "nbformat_minor": 2
}
